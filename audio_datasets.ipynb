{
 "cells": [
  {
   "cell_type": "code",
   "execution_count": null,
   "metadata": {},
   "outputs": [],
   "source": [
    "from datasets import (\n",
    "    Audio,\n",
    "    interleave_datasets,\n",
    "    concatenate_datasets,\n",
    "    IterableDataset,\n",
    "    load_dataset,\n",
    "    IterableDatasetDict,\n",
    "    Features,\n",
    "    Value,\n",
    "    disable_caching,\n",
    "    enable_caching,\n",
    "    DatasetDict,\n",
    "    DownloadConfig,\n",
    "    load_from_disk,\n",
    "    Dataset,\n",
    ")\n",
    "import re\n",
    "from transformers.models.whisper.english_normalizer import BasicTextNormalizer\n",
    "normalizer = BasicTextNormalizer()\n",
    "special_characters = '[\\,\\、\\。\\．\\「\\」\\…\\？\\・\\!\\-\\;\\:\\\"\\“\\%\\‘\\”\\�]'"
   ]
  },
  {
   "cell_type": "code",
   "execution_count": null,
   "metadata": {},
   "outputs": [],
   "source": [
    "ds1 = load_from_disk(\"D:/proj_1/datasets/CoVoST_2_ja_en\").cast_column(\"audio\", Audio(sampling_rate=16000))\n",
    "ds2 = load_dataset(\"audiofolder\", data_dir=\"D:/ds/data1\").cast_column(\"audio\", Audio(sampling_rate=16000))\n",
    "ds3 = load_dataset(\"audiofolder\", data_dir=\"D:/ds/data3\").cast_column(\"audio\", Audio(sampling_rate=16000))"
   ]
  },
  {
   "cell_type": "code",
   "execution_count": null,
   "metadata": {},
   "outputs": [],
   "source": [
    "\n",
    "dataset_cc = concatenate_datasets([ds1, ds2['train'], ds3['train']])"
   ]
  },
  {
   "cell_type": "code",
   "execution_count": null,
   "metadata": {},
   "outputs": [],
   "source": [
    "dataset_cc.push_to_hub(\"sin2piusc/ja_en_translate_2\")"
   ]
  },
  {
   "cell_type": "code",
   "execution_count": null,
   "metadata": {},
   "outputs": [],
   "source": [
    "dataset_cc.save_to_disk(\"D:/proj_1/datasets/ja_en_translate_2\")"
   ]
  },
  {
   "cell_type": "code",
   "execution_count": null,
   "metadata": {},
   "outputs": [],
   "source": [
    "dataset = load_dataset(\"sin2piusc/ja_en_translate_2\")"
   ]
  },
  {
   "cell_type": "code",
   "execution_count": null,
   "metadata": {},
   "outputs": [],
   "source": [
    "from IPython.display import Audio\n",
    "sample = dataset[\"train\"][\"audio\"][3000]\n",
    "Audio(sample[\"array\"], rate=sample[\"sampling_rate\"])"
   ]
  },
  {
   "cell_type": "code",
   "execution_count": null,
   "metadata": {},
   "outputs": [],
   "source": [
    "dataset_cc[\"audio\"][3000]"
   ]
  },
  {
   "cell_type": "code",
   "execution_count": null,
   "metadata": {},
   "outputs": [],
   "source": [
    "sample = \"04.wav\"\n",
    "Audio(sample)"
   ]
  },
  {
   "cell_type": "code",
   "execution_count": null,
   "metadata": {},
   "outputs": [],
   "source": [
    "from datasets import load_dataset\n",
    "dataset1 = load_dataset(\"audiofolder\", data_dir=\"D:/ds/data1\")\n",
    "dataset2 = load_dataset(\"sin2piusc/gap_2\")\n",
    "dataset3 = load_dataset(\"audiofolder\", data_dir=\"D:/ds/data3\")\n",
    "dataset4 = load_dataset(\"sin2piusc/translate_2\")"
   ]
  },
  {
   "cell_type": "code",
   "execution_count": null,
   "metadata": {},
   "outputs": [],
   "source": [
    "dataset_cc = concatenate_datasets([dataset1[\"train\"], dataset2[\"train\"], dataset3[\"train\"], dataset4[\"train\"]])"
   ]
  },
  {
   "cell_type": "code",
   "execution_count": null,
   "metadata": {},
   "outputs": [],
   "source": [
    "dataset_cc['sentence'][1103]"
   ]
  },
  {
   "cell_type": "code",
   "execution_count": null,
   "metadata": {},
   "outputs": [],
   "source": [
    "def norm_everything(batch):\n",
    "    batch[\"sentence\"] = neologdn.normalize(batch[\"sentence\"]).strip()\n",
    "    batch[\"sentence\"] = normalizer(batch[\"sentence\"]).strip()\n",
    "    batch[\"sentence\"] = wakati.parse(batch[\"sentence\"]).strip()\n",
    "    batch[\"sentence\"] = re.sub(special_characters,'', batch[\"sentence\"]).strip()\n",
    "    return batch"
   ]
  },
  {
   "cell_type": "code",
   "execution_count": null,
   "metadata": {},
   "outputs": [],
   "source": [
    "vectorized_dataset = dataset_cc.map(norm_everything, num_proc=1)"
   ]
  }
 ],
 "metadata": {
  "kernelspec": {
   "display_name": "Python 3",
   "language": "python",
   "name": "python3"
  },
  "language_info": {
   "codemirror_mode": {
    "name": "ipython",
    "version": 3
   },
   "file_extension": ".py",
   "mimetype": "text/x-python",
   "name": "python",
   "nbconvert_exporter": "python",
   "pygments_lexer": "ipython3",
   "version": "3.11.9"
  }
 },
 "nbformat": 4,
 "nbformat_minor": 2
}
