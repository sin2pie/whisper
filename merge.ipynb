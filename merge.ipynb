{
 "cells": [
  {
   "cell_type": "code",
   "execution_count": null,
   "metadata": {},
   "outputs": [],
   "source": [
    "from transformers import AutoTokenizer, pipeline, AutoProcessor, WhisperForConditionalGeneration, WhisperFeatureExtractor, WhisperProcessor\n",
    "from peft import PeftModel\n",
    "import torch\n",
    "import os\n",
    "import transformers\n",
    "os.environ[\"CUDA_VISIBLE_DEVICES\"] = \"0\"\n",
    "device=torch.device(\"cuda\")\n",
    "torch_dtype=\"auto\"#torch.float32,\n",
    "transformers.utils.logging.set_verbosity_error()\n",
    "generate_kwargs = {\"language\":\"<|ja|>\",\"task\":\"translate\"}#,\"temperature\":\"0.0\"}\n",
    "sample = \"01.wav\""
   ]
  },
  {
   "cell_type": "code",
   "execution_count": null,
   "metadata": {},
   "outputs": [],
   "source": [
    "base = \"openai/whisper-small\"\n",
    "base_model = WhisperForConditionalGeneration.from_pretrained(base, torch_dtype=\"auto\", device_map=\"auto\")\n",
    "tokenizer = AutoTokenizer.from_pretrained(base)\n",
    "processor = AutoProcessor.from_pretrained(base)\n",
    "feature_extractor = WhisperFeatureExtractor.from_pretrained(base)\n",
    "\n",
    "pipe = pipeline(\"automatic-speech-recognition\", base_model, tokenizer=tokenizer, feature_extractor=feature_extractor, torch_dtype=\"auto\")\n",
    "result=pipe(sample, generate_kwargs=generate_kwargs)\n",
    "print(result)"
   ]
  },
  {
   "cell_type": "code",
   "execution_count": null,
   "metadata": {},
   "outputs": [],
   "source": [
    "peft_model = \"./sin2piusc/whisper-small_tran_1-test/checkpoint-1000\"\n",
    "model_1 = PeftModel.from_pretrained(base_model, peft_model, is_trainable=True, torch_dtype=\"auto\")\n",
    "pipe_2 = pipeline(\"automatic-speech-recognition\", model_1, tokenizer=tokenizer, feature_extractor=feature_extractor, torch_dtype=\"auto\")\n",
    "result_2=pipe_2(sample, generate_kwargs=generate_kwargs)\n",
    "print(result_2)"
   ]
  },
  {
   "cell_type": "code",
   "execution_count": null,
   "metadata": {},
   "outputs": [],
   "source": [
    "weighted_adapter_name = \"4\"\n",
    "model_1.load_adapter(\"sin2piusc/whisper-med_15k\", adapter_name=\"a0\")\n",
    "model_1.load_adapter(\"sin2piusc/whisper-med_22k\", adapter_name=\"a1\")\n",
    "model_1.load_adapter(\"./adapters/whisper-medium-5k\", adapter_name=\"a2\")#./sin2piusc/whisper-medium_s1/checkpoint-1200\n",
    "model_1.load_adapter(\"sin2piusc/whisper-medium-anime-5k\", adapter_name=\"a3\")\n",
    "model_1.add_weighted_adapter(\n",
    "    adapters=[\"a0\", \"a1\", \"a2\", \"a3\"],\n",
    "    weights=[0.0, 0.0, 0.25, 0.25],\n",
    "    adapter_name=weighted_adapter_name,\n",
    "    combination_type=\"cat\",\n",
    "    )\n",
    "\n",
    "model_1.set_adapter(\"4\")"
   ]
  },
  {
   "cell_type": "code",
   "execution_count": null,
   "metadata": {},
   "outputs": [],
   "source": [
    "pipe = pipeline(\"automatic-speech-recognition\", model_1, tokenizer=tokenizer, feature_extractor=feature_extractor, torch_dtype=\"auto\")\n",
    "result=pipe(sample, generate_kwargs=generate_kwargs)#, chunk_length_s=10, stride_length_s=[2,2])\n",
    "print(result)"
   ]
  },
  {
   "cell_type": "code",
   "execution_count": null,
   "metadata": {},
   "outputs": [],
   "source": [
    "out = \"./saved_models/whisper-small_tran_1-test\"\n",
    "tokenizer.save_pretrained(out +\"/Tokenizer\")\n",
    "processor.save_pretrained(out + \"/Processor\")\n",
    "model_1.save_pretrained(out + \"/Adapter\")\n",
    "model_1.merge_and_unload().save_pretrained(out + \"/Merged_Model\")\n",
    "\n",
    "# unmerge the LoRA layers from the base model\n",
    "# model.unmerge_adapter()"
   ]
  }
 ],
 "metadata": {
  "kernelspec": {
   "display_name": "Python 3",
   "language": "python",
   "name": "python3"
  },
  "language_info": {
   "codemirror_mode": {
    "name": "ipython",
    "version": 3
   },
   "file_extension": ".py",
   "mimetype": "text/x-python",
   "name": "python",
   "nbconvert_exporter": "python",
   "pygments_lexer": "ipython3",
   "version": "3.11.9"
  }
 },
 "nbformat": 4,
 "nbformat_minor": 2
}
